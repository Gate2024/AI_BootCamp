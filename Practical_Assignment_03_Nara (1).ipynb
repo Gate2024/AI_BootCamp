{
 "cells": [
  {
   "cell_type": "code",
   "execution_count": null,
   "id": "c8275114-7498-4c2a-8115-173fe37c7d7f",
   "metadata": {},
   "outputs": [],
   "source": []
  },
  {
   "cell_type": "code",
   "execution_count": null,
   "id": "1bf04fba-1f9a-4fa5-87d3-9a8c90ee2bc4",
   "metadata": {},
   "outputs": [],
   "source": [
    "      \n",
    "file_path = \"Downloads/student_performance - student_performance.csv\"    \n",
    "df = pd.read_csv(file_path)  # Display the first few rows\n",
    "df.head\n",
    "df.info()"
   ]
  }
 ],
 "metadata": {
  "kernelspec": {
   "display_name": "Python 3 (ipykernel)",
   "language": "python",
   "name": "python3"
  },
  "language_info": {
   "codemirror_mode": {
    "name": "ipython",
    "version": 3
   },
   "file_extension": ".py",
   "mimetype": "text/x-python",
   "name": "python",
   "nbconvert_exporter": "python",
   "pygments_lexer": "ipython3",
   "version": "3.12.7"
  }
 },
 "nbformat": 4,
 "nbformat_minor": 5
}
